{
  "nbformat": 4,
  "nbformat_minor": 0,
  "metadata": {
    "colab": {
      "provenance": []
    },
    "kernelspec": {
      "name": "python3",
      "display_name": "Python 3"
    },
    "language_info": {
      "name": "python"
    }
  },
  "cells": [
    {
      "cell_type": "markdown",
      "source": [
        "# New Section\n",
        "National Greenhouse Gas Emissions Inventories by the sector of origin and National Mitigation Targets as determined by the countries.\n",
        "\n",
        "Annual country-level estimates of net emissions/removals for 215 countries are presented by six sectors, 14 sub-sectors and four gases, for the years 1970-2021. To facilitate retrieval and use, two aggregated indicators, Total GHG emissions including land-use, land-use change and forestry (LULUCF) and Total GHG emissions excluding land-use, land-use change and forestry are presented in addition to the sector-level information.[link text](https://climatedata.imf.org/datasets/72e94bc71f4441d29710a9bea4d35f1d_0/about)"
      ],
      "metadata": {
        "id": "_w4FVQ_GM8ra"
      }
    },
    {
      "cell_type": "markdown",
      "source": [
        "**Problem Statement:**\n",
        "*Greenhouse gases such as carbon dioxide, methane, and nitrous oxide trap heat in the Earth's atmosphere, leading to climate change and its associated impacts, such as sea level rise, more frequent and severe weather events, and changes in ecosystems and biodiversity.*\n",
        "\n",
        "**Business Understanding**\n",
        "\n",
        "\n",
        "*   Businesses can have a significant impact on greenhouse gas emissions through their operations, supply chains, and products.\n",
        "\n",
        "\n",
        "*   Understanding Greenhouse gas emissions is critical for businesses to make informed decisions about sustainability, risk management, and long-term viability. \n",
        "\n",
        "*  Comprehensive understanding of the sources and impacts of emissions across the entire value chain, from raw material extraction to end-of-life disposal. \n",
        "\n",
        "\n",
        "*   Compliance with regulatory requirements to reduce emissions, such as carbon taxes or emissions trading schemes.\n",
        "\n",
        "\n",
        "*  Reducing emissions can lead to cost savings, increased efficiency, and improved brand reputation. \n",
        "\n",
        "\n",
        "\n",
        "\n",
        "\n",
        "\n",
        "\n",
        "\n",
        " \n",
        "\n"
      ],
      "metadata": {
        "id": "pcYVyvL-hLZ2"
      }
    },
    {
      "cell_type": "markdown",
      "source": [
        "###National Greenhouse Gas Emissions Inventories and Implied National Mitigation (Nationally Determined Contributions) Targets"
      ],
      "metadata": {
        "id": "NPxevDn_pcCl"
      }
    },
    {
      "cell_type": "markdown",
      "source": [
        "1. Data Analysis\n",
        "2.Feature Engineering\n",
        "3.Feature Selection\n",
        "4. Model buiilding\n",
        "5. Model Deployment"
      ],
      "metadata": {
        "id": "JkmP3Ov-paKH"
      }
    },
    {
      "cell_type": "markdown",
      "source": [
        "##1. Import Libraries"
      ],
      "metadata": {
        "id": "jHc70778lY4L"
      }
    },
    {
      "cell_type": "code",
      "source": [
        "# import necessary libraries\n",
        "# Importing all the necessary libraries\n",
        "import numpy as np\n",
        "import pandas as pd\n",
        "import matplotlib.pyplot as plt\n",
        "import seaborn as sns"
      ],
      "metadata": {
        "id": "poI2s5HKlPQH"
      },
      "execution_count": null,
      "outputs": []
    },
    {
      "cell_type": "markdown",
      "source": [
        "###2.Reading the data"
      ],
      "metadata": {
        "id": "S6MolCdDL53Z"
      }
    },
    {
      "cell_type": "code",
      "source": [
        "df=pd.read_csv('/content/National_Greenhouse_Gas_Emissions_Inventories_and_Implied_National_Mitigation_(Nationally_Determined_Contributions)_Targets.csv',error_bad_lines=False,engine=\"python\")"
      ],
      "metadata": {
        "id": "Nz7xxrxDlUDx",
        "colab": {
          "base_uri": "https://localhost:8080/"
        },
        "outputId": "f0c012ef-3381-40dc-f4ec-57c09e94a9b3"
      },
      "execution_count": null,
      "outputs": [
        {
          "output_type": "stream",
          "name": "stderr",
          "text": [
            "<ipython-input-2-746a6854eec9>:1: FutureWarning: The error_bad_lines argument has been deprecated and will be removed in a future version. Use on_bad_lines in the future.\n",
            "\n",
            "\n",
            "  df=pd.read_csv('/content/National_Greenhouse_Gas_Emissions_Inventories_and_Implied_National_Mitigation_(Nationally_Determined_Contributions)_Targets.csv',error_bad_lines=False,engine=\"python\")\n"
          ]
        }
      ]
    },
    {
      "cell_type": "code",
      "source": [
        "# Determining the shape of the datset\n",
        "df.shape"
      ],
      "metadata": {
        "colab": {
          "base_uri": "https://localhost:8080/"
        },
        "id": "0y4I8WVrnTgq",
        "outputId": "e074b3b6-0d75-4c77-9922-f59076093c6f"
      },
      "execution_count": null,
      "outputs": [
        {
          "output_type": "execute_result",
          "data": {
            "text/plain": [
              "(20448, 74)"
            ]
          },
          "metadata": {},
          "execution_count": 3
        }
      ]
    },
    {
      "cell_type": "markdown",
      "source": [
        "3.Feature Engineering"
      ],
      "metadata": {
        "id": "hOG5k7GAJD7E"
      }
    },
    {
      "cell_type": "code",
      "source": [
        "# Cleaning the missing data\n",
        "empty_columns=df.isnull().sum()\n",
        "empty_columns=empty_columns[empty_columns.values>(0.3*len(empty_columns))]\n",
        "# listing the null values columns having more than 30%\n",
        "print(empty_columns)"
      ],
      "metadata": {
        "colab": {
          "base_uri": "https://localhost:8080/"
        },
        "id": "GN5miO29IEHH",
        "outputId": "1959d7d2-b669-4d81-cd5d-440ed2923ae1"
      },
      "execution_count": null,
      "outputs": [
        {
          "output_type": "stream",
          "name": "stdout",
          "text": [
            "ISO2      2761\n",
            "F1970     5281\n",
            "F1971     5281\n",
            "F1972     5281\n",
            "F1973     5281\n",
            "         ...  \n",
            "F2026    19820\n",
            "F2027    19820\n",
            "F2028    19820\n",
            "F2029    19820\n",
            "F2030    17939\n",
            "Length: 62, dtype: int64\n"
          ]
        }
      ]
    },
    {
      "cell_type": "code",
      "source": [
        "# Searching for the column for null values\n",
        "df.isnull().sum()/len(df)*100"
      ],
      "metadata": {
        "colab": {
          "base_uri": "https://localhost:8080/"
        },
        "id": "kFIn7_nsI6j-",
        "outputId": "88241a6e-97b8-4593-ed94-d684db05d72d"
      },
      "execution_count": null,
      "outputs": [
        {
          "output_type": "execute_result",
          "data": {
            "text/plain": [
              "ObjectId      0.000000\n",
              "Country       0.000000\n",
              "ISO2         13.502543\n",
              "ISO3          0.000000\n",
              "Indicator     0.000000\n",
              "               ...    \n",
              "F2026        96.928795\n",
              "F2027        96.928795\n",
              "F2028        96.928795\n",
              "F2029        96.928795\n",
              "F2030        87.729851\n",
              "Length: 74, dtype: float64"
            ]
          },
          "metadata": {},
          "execution_count": 5
        }
      ]
    },
    {
      "cell_type": "code",
      "source": [],
      "metadata": {
        "id": "r4VKXyb0Jh8J"
      },
      "execution_count": null,
      "outputs": []
    },
    {
      "cell_type": "markdown",
      "source": [
        "If a column has a very high percentage of null values (e.g., more than 50%), and it is not critical to the analysis or prediction task, it may be appropriate to simply drop the column. Let's drop columns F2026,F2027,F2028,    F2029, F2030.               \n",
        "        \n"
      ],
      "metadata": {
        "id": "5kx9JQjAKPDr"
      }
    },
    {
      "cell_type": "code",
      "source": [
        "df.info()"
      ],
      "metadata": {
        "colab": {
          "base_uri": "https://localhost:8080/"
        },
        "id": "7HsbJWPrnVpf",
        "outputId": "c0312017-ae12-4e49-a170-fa50f9502b58"
      },
      "execution_count": null,
      "outputs": [
        {
          "output_type": "stream",
          "name": "stdout",
          "text": [
            "<class 'pandas.core.frame.DataFrame'>\n",
            "RangeIndex: 20448 entries, 0 to 20447\n",
            "Data columns (total 74 columns):\n",
            " #   Column               Non-Null Count  Dtype  \n",
            "---  ------               --------------  -----  \n",
            " 0   ObjectId             20448 non-null  int64  \n",
            " 1   Country              20448 non-null  object \n",
            " 2   ISO2                 17687 non-null  object \n",
            " 3   ISO3                 20448 non-null  object \n",
            " 4   Indicator            20448 non-null  object \n",
            " 5   Unit                 20448 non-null  object \n",
            " 6   Source               20448 non-null  object \n",
            " 7   CTS_Code             20448 non-null  object \n",
            " 8   CTS_Name             20448 non-null  object \n",
            " 9   CTS_Full_Descriptor  20448 non-null  object \n",
            " 10  Industry             20448 non-null  object \n",
            " 11  Gas_Type             20448 non-null  object \n",
            " 12  Scale                20448 non-null  object \n",
            " 13  F1970                15167 non-null  float64\n",
            " 14  F1971                15167 non-null  float64\n",
            " 15  F1972                15167 non-null  float64\n",
            " 16  F1973                15167 non-null  float64\n",
            " 17  F1974                15167 non-null  float64\n",
            " 18  F1975                15167 non-null  float64\n",
            " 19  F1976                15167 non-null  float64\n",
            " 20  F1977                15167 non-null  float64\n",
            " 21  F1978                15167 non-null  float64\n",
            " 22  F1979                15167 non-null  float64\n",
            " 23  F1980                15167 non-null  float64\n",
            " 24  F1981                15167 non-null  float64\n",
            " 25  F1982                15167 non-null  float64\n",
            " 26  F1983                15167 non-null  float64\n",
            " 27  F1984                15167 non-null  float64\n",
            " 28  F1985                15167 non-null  float64\n",
            " 29  F1986                15167 non-null  float64\n",
            " 30  F1987                15167 non-null  float64\n",
            " 31  F1988                15167 non-null  float64\n",
            " 32  F1989                15167 non-null  float64\n",
            " 33  F1990                17572 non-null  float64\n",
            " 34  F1991                17572 non-null  float64\n",
            " 35  F1992                17572 non-null  float64\n",
            " 36  F1993                17572 non-null  float64\n",
            " 37  F1994                17572 non-null  float64\n",
            " 38  F1995                17572 non-null  float64\n",
            " 39  F1996                17572 non-null  float64\n",
            " 40  F1997                17572 non-null  float64\n",
            " 41  F1998                17572 non-null  float64\n",
            " 42  F1999                17572 non-null  float64\n",
            " 43  F2000                17572 non-null  float64\n",
            " 44  F2001                17572 non-null  float64\n",
            " 45  F2002                17572 non-null  float64\n",
            " 46  F2003                17572 non-null  float64\n",
            " 47  F2004                17572 non-null  float64\n",
            " 48  F2005                17572 non-null  float64\n",
            " 49  F2006                17572 non-null  float64\n",
            " 50  F2007                17572 non-null  float64\n",
            " 51  F2008                17572 non-null  float64\n",
            " 52  F2009                17572 non-null  float64\n",
            " 53  F2010                17572 non-null  float64\n",
            " 54  F2011                17572 non-null  float64\n",
            " 55  F2012                17572 non-null  float64\n",
            " 56  F2013                17572 non-null  float64\n",
            " 57  F2014                17572 non-null  float64\n",
            " 58  F2015                17572 non-null  float64\n",
            " 59  F2016                17572 non-null  float64\n",
            " 60  F2017                17572 non-null  float64\n",
            " 61  F2018                17572 non-null  float64\n",
            " 62  F2019                18214 non-null  float64\n",
            " 63  F2020                18200 non-null  float64\n",
            " 64  F2021                18200 non-null  float64\n",
            " 65  F2022                628 non-null    float64\n",
            " 66  F2023                628 non-null    float64\n",
            " 67  F2024                628 non-null    float64\n",
            " 68  F2025                628 non-null    float64\n",
            " 69  F2026                628 non-null    float64\n",
            " 70  F2027                628 non-null    float64\n",
            " 71  F2028                628 non-null    float64\n",
            " 72  F2029                628 non-null    float64\n",
            " 73  F2030                2509 non-null   float64\n",
            "dtypes: float64(61), int64(1), object(12)\n",
            "memory usage: 11.5+ MB\n"
          ]
        }
      ]
    },
    {
      "cell_type": "code",
      "source": [
        "#Listing empty rows and removing rows greater than 30%\n",
        "empty_rows=df.isnull().sum(axis=1)\n",
        "empty_rows=list(empty_rows[empty_rows.values>=0.3*len(df)].index)\n",
        "df.drop(labels=empty_rows,axis=0,inplace=True)\n",
        "print(len(empty_rows))"
      ],
      "metadata": {
        "id": "9aE7qSmNUN3h",
        "colab": {
          "base_uri": "https://localhost:8080/"
        },
        "outputId": "f2ecead0-8c85-4399-b692-f31a434f6751"
      },
      "execution_count": null,
      "outputs": [
        {
          "output_type": "stream",
          "name": "stdout",
          "text": [
            "0\n"
          ]
        }
      ]
    },
    {
      "cell_type": "markdown",
      "source": [
        "Dropping ID,Source,Scale and Unit columns.\n"
      ],
      "metadata": {
        "id": "RRE6AZuKyeXs"
      }
    },
    {
      "cell_type": "code",
      "source": [
        "df.drop(['ObjectId','ISO2','ISO3','Unit','Source','CTS_Code','CTS_Full_Descriptor','Scale','F2022','F2023','F2024','F2025','F2026','F2027','F2028','F2028','F2029','F2030'],axis=1,inplace=True)"
      ],
      "metadata": {
        "id": "CZ54UMDGNDtV"
      },
      "execution_count": null,
      "outputs": []
    },
    {
      "cell_type": "markdown",
      "source": [],
      "metadata": {
        "id": "u04Jpnrpo3ba"
      }
    },
    {
      "cell_type": "markdown",
      "source": [
        "High number of missing values - drop columns F2022 - F2030. Deleted the columns having 628 missing values."
      ],
      "metadata": {
        "id": "ZseGL8D0Q3Gs"
      }
    },
    {
      "cell_type": "code",
      "source": [
        "\n",
        "\n",
        "df_cleaned = df.dropna()\n",
        "\n",
        "# Print the cleaned DataFrame\n",
        "print(df_cleaned)"
      ],
      "metadata": {
        "colab": {
          "base_uri": "https://localhost:8080/"
        },
        "id": "xosanx0yMy3g",
        "outputId": "3f558191-8fb8-40d0-c35c-8bf57beda554"
      },
      "execution_count": null,
      "outputs": [
        {
          "output_type": "stream",
          "name": "stdout",
          "text": [
            "                  Country                                          Indicator  \\\n",
            "0      Advanced Economies                      Annual Net Emissions/Removals   \n",
            "1      Advanced Economies                      Annual Net Emissions/Removals   \n",
            "2      Advanced Economies                      Annual Net Emissions/Removals   \n",
            "3      Advanced Economies                      Annual Net Emissions/Removals   \n",
            "4      Advanced Economies                      Annual Net Emissions/Removals   \n",
            "...                   ...                                                ...   \n",
            "20442            Zimbabwe  Total GHG emissions excluding land-use, land-u...   \n",
            "20443            Zimbabwe  Total GHG emissions including land-use, land-u...   \n",
            "20445            Zimbabwe  Total GHG emissions including land-use, land-u...   \n",
            "20446            Zimbabwe  Total GHG emissions including land-use, land-u...   \n",
            "20447            Zimbabwe  Total GHG emissions including land-use, land-u...   \n",
            "\n",
            "                                                CTS_Name  \\\n",
            "0                          Annual Net Emissions/Removals   \n",
            "1                          Annual Net Emissions/Removals   \n",
            "2                          Annual Net Emissions/Removals   \n",
            "3                          Annual Net Emissions/Removals   \n",
            "4                          Annual Net Emissions/Removals   \n",
            "...                                                  ...   \n",
            "20442  Total GHG Emissions Excluding Land-Use and Lan...   \n",
            "20443  Total GHG Emissions Including Land-Use and Lan...   \n",
            "20445  Total GHG Emissions Including Land-Use and Lan...   \n",
            "20446  Total GHG Emissions Including Land-Use and Lan...   \n",
            "20447  Total GHG Emissions Including Land-Use and Lan...   \n",
            "\n",
            "                          Industry        Gas_Type        F1970        F1971  \\\n",
            "0                      Agriculture  Carbon dioxide    20.880609    20.901782   \n",
            "1                      Agriculture  Greenhouse gas  1033.088228  1040.842816   \n",
            "2                      Agriculture         Methane   682.429285   683.556828   \n",
            "3                      Agriculture   Nitrous oxide   329.778334   336.384206   \n",
            "4      Buildings and other Sectors  Carbon dioxide  1954.799942  1966.157204   \n",
            "...                            ...             ...          ...          ...   \n",
            "20442               Not Applicable   Nitrous oxide     3.665951     3.870806   \n",
            "20443               Not Applicable  Carbon dioxide     9.669320     9.616592   \n",
            "20445               Not Applicable  Greenhouse gas    21.602987    22.181682   \n",
            "20446               Not Applicable         Methane     8.267716     8.694284   \n",
            "20447               Not Applicable   Nitrous oxide     3.665951     3.870806   \n",
            "\n",
            "             F1972        F1973        F1974  ...        F2012        F2013  \\\n",
            "0        21.075596    21.496603    21.582896  ...    25.791341    24.541533   \n",
            "1      1047.925600  1060.981516  1079.694780  ...  1116.607829  1161.170230   \n",
            "2       687.644816   693.622138   715.108070  ...   585.055049   581.653908   \n",
            "3       339.205188   345.862775   343.003815  ...   505.761439   554.974789   \n",
            "4      2027.906735  2043.195965  1936.555406  ...  1370.820755  1456.717735   \n",
            "...            ...          ...          ...  ...          ...          ...   \n",
            "20442     3.919367     3.917183     4.003450  ...     5.225804     5.346914   \n",
            "20443     9.164476    10.612888    10.303574  ...    23.777545    24.075733   \n",
            "20445    21.797037    23.376969    23.313291  ...    42.535984    43.101272   \n",
            "20446     8.713195     8.846898     9.006267  ...    13.158483    13.307377   \n",
            "20447     3.919367     3.917183     4.003450  ...     5.346062     5.457328   \n",
            "\n",
            "             F2014        F2015        F2016        F2017        F2018  \\\n",
            "0        24.839765    25.495113    25.384501    25.219571    24.679238   \n",
            "1      1173.418622  1179.377600  1167.459920  1172.242024  1180.337665   \n",
            "2       581.540149   587.091660   592.580719   597.608228   599.380259   \n",
            "3       567.038708   566.790827   549.494700   549.414225   556.278168   \n",
            "4      1384.945817  1392.701550  1363.344283  1368.896823  1417.215270   \n",
            "...            ...          ...          ...          ...          ...   \n",
            "20442     4.506907     4.795793     4.869435     4.870380     4.926467   \n",
            "20443    23.966243    24.194862    98.475331    97.703055    99.893111   \n",
            "20445    40.818393    42.114181   116.189763   115.548863   118.199910   \n",
            "20446    11.982968    12.674368    12.376623    12.510451    12.820125   \n",
            "20447     4.584138     4.928910     4.977216     4.931167     5.029202   \n",
            "\n",
            "             F2019        F2020        F2021  \n",
            "0        24.984129    25.102868    25.035774  \n",
            "1      1178.929662  1148.431002  1143.352083  \n",
            "2       592.825548   590.216305   584.740417  \n",
            "3       561.119985   533.111829   533.575892  \n",
            "4      1414.019033  1348.438469  1384.787385  \n",
            "...            ...          ...          ...  \n",
            "20442     4.971025     5.080373     5.267854  \n",
            "20443    99.250957    98.606133    99.455966  \n",
            "20445   117.737745   117.430404   118.816785  \n",
            "20446    12.931867    13.168829    13.481188  \n",
            "20447     5.050305     5.102818     5.274209  \n",
            "\n",
            "[14814 rows x 57 columns]\n"
          ]
        }
      ]
    },
    {
      "cell_type": "code",
      "source": [
        "df.isnull().sum()"
      ],
      "metadata": {
        "colab": {
          "base_uri": "https://localhost:8080/"
        },
        "id": "s5UpauRulJ2l",
        "outputId": "b87ce5dd-acb2-4c2f-c6dd-3b7e916e79fd"
      },
      "execution_count": null,
      "outputs": [
        {
          "output_type": "execute_result",
          "data": {
            "text/plain": [
              "Country         0\n",
              "Indicator       0\n",
              "CTS_Name        0\n",
              "Industry        0\n",
              "Gas_Type        0\n",
              "F1970        5281\n",
              "F1971        5281\n",
              "F1972        5281\n",
              "F1973        5281\n",
              "F1974        5281\n",
              "F1975        5281\n",
              "F1976        5281\n",
              "F1977        5281\n",
              "F1978        5281\n",
              "F1979        5281\n",
              "F1980        5281\n",
              "F1981        5281\n",
              "F1982        5281\n",
              "F1983        5281\n",
              "F1984        5281\n",
              "F1985        5281\n",
              "F1986        5281\n",
              "F1987        5281\n",
              "F1988        5281\n",
              "F1989        5281\n",
              "F1990        2876\n",
              "F1991        2876\n",
              "F1992        2876\n",
              "F1993        2876\n",
              "F1994        2876\n",
              "F1995        2876\n",
              "F1996        2876\n",
              "F1997        2876\n",
              "F1998        2876\n",
              "F1999        2876\n",
              "F2000        2876\n",
              "F2001        2876\n",
              "F2002        2876\n",
              "F2003        2876\n",
              "F2004        2876\n",
              "F2005        2876\n",
              "F2006        2876\n",
              "F2007        2876\n",
              "F2008        2876\n",
              "F2009        2876\n",
              "F2010        2876\n",
              "F2011        2876\n",
              "F2012        2876\n",
              "F2013        2876\n",
              "F2014        2876\n",
              "F2015        2876\n",
              "F2016        2876\n",
              "F2017        2876\n",
              "F2018        2876\n",
              "F2019        2234\n",
              "F2020        2248\n",
              "F2021        2248\n",
              "dtype: int64"
            ]
          },
          "metadata": {},
          "execution_count": 10
        }
      ]
    },
    {
      "cell_type": "code",
      "source": [
        "\"\"\"##Imputing the missing values with mean of the population\n",
        "numerical_with_nan=[feature for feature in df.columns if df[feature].isnull().sum()>1 and df[feature].dtypes!='0']\n",
        "for feature in numerical_with_nan:\n",
        "    ## We will replace by using median since there are outliers\n",
        "    mean_value=df[feature].mean()\n",
        "    \n",
        "    ## create a new feature to capture nan values\n",
        "    df[feature].fillna(mean_value,inplace=True)\n",
        "    \n",
        "df[numerical_with_nan].isnull().sum()\n",
        "new_df=df.copy()\"\"\"\n",
        "                    "
      ],
      "metadata": {
        "id": "c4mNtpjzN-zd",
        "colab": {
          "base_uri": "https://localhost:8080/",
          "height": 90
        },
        "outputId": "24ab81c7-d25c-460c-d582-6e805aefcfe3"
      },
      "execution_count": null,
      "outputs": [
        {
          "output_type": "execute_result",
          "data": {
            "text/plain": [
              "\"##Imputing the missing values with mean of the population\\nnumerical_with_nan=[feature for feature in df.columns if df[feature].isnull().sum()>1 and df[feature].dtypes!='0']\\nfor feature in numerical_with_nan:\\n    ## We will replace by using median since there are outliers\\n    mean_value=df[feature].mean()\\n    \\n    ## create a new feature to capture nan values\\n    df[feature].fillna(mean_value,inplace=True)\\n    \\ndf[numerical_with_nan].isnull().sum()\\nnew_df=df.copy()\""
            ],
            "application/vnd.google.colaboratory.intrinsic+json": {
              "type": "string"
            }
          },
          "metadata": {},
          "execution_count": 11
        }
      ]
    },
    {
      "cell_type": "code",
      "source": [
        "numerical_with_nan=[feature for feature in df_cleaned.columns if df_cleaned[feature].dtypes!='0']\n",
        "numerical_with_nan"
      ],
      "metadata": {
        "colab": {
          "base_uri": "https://localhost:8080/"
        },
        "id": "dwk9pAW8MgeX",
        "outputId": "2c188284-6f38-4ed7-efc4-8bb0b75f9650"
      },
      "execution_count": null,
      "outputs": [
        {
          "output_type": "execute_result",
          "data": {
            "text/plain": [
              "['Country',\n",
              " 'Indicator',\n",
              " 'CTS_Name',\n",
              " 'Industry',\n",
              " 'Gas_Type',\n",
              " 'F1970',\n",
              " 'F1971',\n",
              " 'F1972',\n",
              " 'F1973',\n",
              " 'F1974',\n",
              " 'F1975',\n",
              " 'F1976',\n",
              " 'F1977',\n",
              " 'F1978',\n",
              " 'F1979',\n",
              " 'F1980',\n",
              " 'F1981',\n",
              " 'F1982',\n",
              " 'F1983',\n",
              " 'F1984',\n",
              " 'F1985',\n",
              " 'F1986',\n",
              " 'F1987',\n",
              " 'F1988',\n",
              " 'F1989',\n",
              " 'F1990',\n",
              " 'F1991',\n",
              " 'F1992',\n",
              " 'F1993',\n",
              " 'F1994',\n",
              " 'F1995',\n",
              " 'F1996',\n",
              " 'F1997',\n",
              " 'F1998',\n",
              " 'F1999',\n",
              " 'F2000',\n",
              " 'F2001',\n",
              " 'F2002',\n",
              " 'F2003',\n",
              " 'F2004',\n",
              " 'F2005',\n",
              " 'F2006',\n",
              " 'F2007',\n",
              " 'F2008',\n",
              " 'F2009',\n",
              " 'F2010',\n",
              " 'F2011',\n",
              " 'F2012',\n",
              " 'F2013',\n",
              " 'F2014',\n",
              " 'F2015',\n",
              " 'F2016',\n",
              " 'F2017',\n",
              " 'F2018',\n",
              " 'F2019',\n",
              " 'F2020',\n",
              " 'F2021']"
            ]
          },
          "metadata": {},
          "execution_count": 12
        }
      ]
    },
    {
      "cell_type": "markdown",
      "source": [
        "4. Feature Selection"
      ],
      "metadata": {
        "id": "Zj6KX4JtJk4P"
      }
    },
    {
      "cell_type": "code",
      "source": [
        "pip install catboost"
      ],
      "metadata": {
        "colab": {
          "base_uri": "https://localhost:8080/"
        },
        "id": "6G7NoRVDJ1UF",
        "outputId": "e06e24bf-4188-457a-d137-18883e108f73"
      },
      "execution_count": null,
      "outputs": [
        {
          "output_type": "stream",
          "name": "stdout",
          "text": [
            "Looking in indexes: https://pypi.org/simple, https://us-python.pkg.dev/colab-wheels/public/simple/\n",
            "Requirement already satisfied: catboost in /usr/local/lib/python3.10/dist-packages (1.2)\n",
            "Requirement already satisfied: graphviz in /usr/local/lib/python3.10/dist-packages (from catboost) (0.20.1)\n",
            "Requirement already satisfied: matplotlib in /usr/local/lib/python3.10/dist-packages (from catboost) (3.7.1)\n",
            "Requirement already satisfied: numpy>=1.16.0 in /usr/local/lib/python3.10/dist-packages (from catboost) (1.22.4)\n",
            "Requirement already satisfied: pandas>=0.24 in /usr/local/lib/python3.10/dist-packages (from catboost) (1.5.3)\n",
            "Requirement already satisfied: scipy in /usr/local/lib/python3.10/dist-packages (from catboost) (1.10.1)\n",
            "Requirement already satisfied: plotly in /usr/local/lib/python3.10/dist-packages (from catboost) (5.13.1)\n",
            "Requirement already satisfied: six in /usr/local/lib/python3.10/dist-packages (from catboost) (1.16.0)\n",
            "Requirement already satisfied: python-dateutil>=2.8.1 in /usr/local/lib/python3.10/dist-packages (from pandas>=0.24->catboost) (2.8.2)\n",
            "Requirement already satisfied: pytz>=2020.1 in /usr/local/lib/python3.10/dist-packages (from pandas>=0.24->catboost) (2022.7.1)\n",
            "Requirement already satisfied: contourpy>=1.0.1 in /usr/local/lib/python3.10/dist-packages (from matplotlib->catboost) (1.0.7)\n",
            "Requirement already satisfied: cycler>=0.10 in /usr/local/lib/python3.10/dist-packages (from matplotlib->catboost) (0.11.0)\n",
            "Requirement already satisfied: fonttools>=4.22.0 in /usr/local/lib/python3.10/dist-packages (from matplotlib->catboost) (4.39.3)\n",
            "Requirement already satisfied: kiwisolver>=1.0.1 in /usr/local/lib/python3.10/dist-packages (from matplotlib->catboost) (1.4.4)\n",
            "Requirement already satisfied: packaging>=20.0 in /usr/local/lib/python3.10/dist-packages (from matplotlib->catboost) (23.1)\n",
            "Requirement already satisfied: pillow>=6.2.0 in /usr/local/lib/python3.10/dist-packages (from matplotlib->catboost) (8.4.0)\n",
            "Requirement already satisfied: pyparsing>=2.3.1 in /usr/local/lib/python3.10/dist-packages (from matplotlib->catboost) (3.0.9)\n",
            "Requirement already satisfied: tenacity>=6.2.0 in /usr/local/lib/python3.10/dist-packages (from plotly->catboost) (8.2.2)\n"
          ]
        }
      ]
    },
    {
      "cell_type": "code",
      "source": [
        "# Modelling\n",
        "from sklearn.metrics import mean_squared_error, r2_score\n",
        "from sklearn.neighbors import KNeighborsRegressor\n",
        "from sklearn.tree import DecisionTreeRegressor\n",
        "from sklearn.ensemble import RandomForestRegressor,AdaBoostRegressor\n",
        "from sklearn.svm import SVR\n",
        "from sklearn.linear_model import LinearRegression, Ridge,Lasso\n",
        "from sklearn.metrics import r2_score, mean_absolute_error, mean_squared_error\n",
        "from sklearn.model_selection import RandomizedSearchCV\n",
        "from catboost import CatBoostRegressor\n",
        "from xgboost import XGBRegressor\n",
        "import warnings\n",
        "from sklearn.svm import SVR\n",
        "from sklearn.ensemble import BaggingRegressor\n",
        "from sklearn.ensemble import GradientBoostingRegressor\n",
        "from sklearn.linear_model import SGDRegressor"
      ],
      "metadata": {
        "id": "4VAZp6PzIw5q"
      },
      "execution_count": null,
      "outputs": []
    },
    {
      "cell_type": "code",
      "source": [],
      "metadata": {
        "id": "pUmx-C-uJu80"
      },
      "execution_count": null,
      "outputs": []
    },
    {
      "cell_type": "markdown",
      "source": [
        "Preparing X and Y variables"
      ],
      "metadata": {
        "id": "iM3ohwTHKH6v"
      }
    },
    {
      "cell_type": "code",
      "source": [
        "X =df_cleaned.drop(columns=['F1970',\n",
        " 'F1971',\n",
        " 'F1972',\n",
        " 'F1973',\n",
        " 'F1974',\n",
        " 'F1975',\n",
        " 'F1976',\n",
        " 'F1977',\n",
        " 'F1978',\n",
        " 'F1979',\n",
        " 'F1980',\n",
        " 'F1981',\n",
        " 'F1982',\n",
        " 'F1983',\n",
        " 'F1984',\n",
        " 'F1985',\n",
        " 'F1986',\n",
        " 'F1987',\n",
        " 'F1988',\n",
        " 'F1989',\n",
        " 'F1990',\n",
        " 'F1991',\n",
        " 'F1992',\n",
        " 'F1993',\n",
        " 'F1994',\n",
        " 'F1995',\n",
        " 'F1996',\n",
        " 'F1997',\n",
        " 'F1998',\n",
        " 'F1999',\n",
        " 'F2000',\n",
        " 'F2001',\n",
        " 'F2002',\n",
        " 'F2003',\n",
        " 'F2004',\n",
        " 'F2005',\n",
        " 'F2006',\n",
        " 'F2007',\n",
        " 'F2008',\n",
        " 'F2009',\n",
        " 'F2010',\n",
        " 'F2011',\n",
        " 'F2012',\n",
        " 'F2013',\n",
        " 'F2014',\n",
        " 'F2015',\n",
        " 'F2016',\n",
        " 'F2017',\n",
        " 'F2018',\n",
        " 'F2019',\n",
        " 'F2020',\n",
        " 'F2021'],axis=1)\n",
        "X"
      ],
      "metadata": {
        "id": "nqo1Hq1BKIqm",
        "colab": {
          "base_uri": "https://localhost:8080/",
          "height": 641
        },
        "outputId": "d1ffdff5-1cce-4f51-cdba-82f8989f7a2c"
      },
      "execution_count": null,
      "outputs": [
        {
          "output_type": "execute_result",
          "data": {
            "text/plain": [
              "                  Country                                          Indicator  \\\n",
              "0      Advanced Economies                      Annual Net Emissions/Removals   \n",
              "1      Advanced Economies                      Annual Net Emissions/Removals   \n",
              "2      Advanced Economies                      Annual Net Emissions/Removals   \n",
              "3      Advanced Economies                      Annual Net Emissions/Removals   \n",
              "4      Advanced Economies                      Annual Net Emissions/Removals   \n",
              "...                   ...                                                ...   \n",
              "20442            Zimbabwe  Total GHG emissions excluding land-use, land-u...   \n",
              "20443            Zimbabwe  Total GHG emissions including land-use, land-u...   \n",
              "20445            Zimbabwe  Total GHG emissions including land-use, land-u...   \n",
              "20446            Zimbabwe  Total GHG emissions including land-use, land-u...   \n",
              "20447            Zimbabwe  Total GHG emissions including land-use, land-u...   \n",
              "\n",
              "                                                CTS_Name  \\\n",
              "0                          Annual Net Emissions/Removals   \n",
              "1                          Annual Net Emissions/Removals   \n",
              "2                          Annual Net Emissions/Removals   \n",
              "3                          Annual Net Emissions/Removals   \n",
              "4                          Annual Net Emissions/Removals   \n",
              "...                                                  ...   \n",
              "20442  Total GHG Emissions Excluding Land-Use and Lan...   \n",
              "20443  Total GHG Emissions Including Land-Use and Lan...   \n",
              "20445  Total GHG Emissions Including Land-Use and Lan...   \n",
              "20446  Total GHG Emissions Including Land-Use and Lan...   \n",
              "20447  Total GHG Emissions Including Land-Use and Lan...   \n",
              "\n",
              "                          Industry        Gas_Type  \n",
              "0                      Agriculture  Carbon dioxide  \n",
              "1                      Agriculture  Greenhouse gas  \n",
              "2                      Agriculture         Methane  \n",
              "3                      Agriculture   Nitrous oxide  \n",
              "4      Buildings and other Sectors  Carbon dioxide  \n",
              "...                            ...             ...  \n",
              "20442               Not Applicable   Nitrous oxide  \n",
              "20443               Not Applicable  Carbon dioxide  \n",
              "20445               Not Applicable  Greenhouse gas  \n",
              "20446               Not Applicable         Methane  \n",
              "20447               Not Applicable   Nitrous oxide  \n",
              "\n",
              "[14814 rows x 5 columns]"
            ],
            "text/html": [
              "\n",
              "  <div id=\"df-3713a3d4-888b-4cc8-a198-e9ac820a9ca3\">\n",
              "    <div class=\"colab-df-container\">\n",
              "      <div>\n",
              "<style scoped>\n",
              "    .dataframe tbody tr th:only-of-type {\n",
              "        vertical-align: middle;\n",
              "    }\n",
              "\n",
              "    .dataframe tbody tr th {\n",
              "        vertical-align: top;\n",
              "    }\n",
              "\n",
              "    .dataframe thead th {\n",
              "        text-align: right;\n",
              "    }\n",
              "</style>\n",
              "<table border=\"1\" class=\"dataframe\">\n",
              "  <thead>\n",
              "    <tr style=\"text-align: right;\">\n",
              "      <th></th>\n",
              "      <th>Country</th>\n",
              "      <th>Indicator</th>\n",
              "      <th>CTS_Name</th>\n",
              "      <th>Industry</th>\n",
              "      <th>Gas_Type</th>\n",
              "    </tr>\n",
              "  </thead>\n",
              "  <tbody>\n",
              "    <tr>\n",
              "      <th>0</th>\n",
              "      <td>Advanced Economies</td>\n",
              "      <td>Annual Net Emissions/Removals</td>\n",
              "      <td>Annual Net Emissions/Removals</td>\n",
              "      <td>Agriculture</td>\n",
              "      <td>Carbon dioxide</td>\n",
              "    </tr>\n",
              "    <tr>\n",
              "      <th>1</th>\n",
              "      <td>Advanced Economies</td>\n",
              "      <td>Annual Net Emissions/Removals</td>\n",
              "      <td>Annual Net Emissions/Removals</td>\n",
              "      <td>Agriculture</td>\n",
              "      <td>Greenhouse gas</td>\n",
              "    </tr>\n",
              "    <tr>\n",
              "      <th>2</th>\n",
              "      <td>Advanced Economies</td>\n",
              "      <td>Annual Net Emissions/Removals</td>\n",
              "      <td>Annual Net Emissions/Removals</td>\n",
              "      <td>Agriculture</td>\n",
              "      <td>Methane</td>\n",
              "    </tr>\n",
              "    <tr>\n",
              "      <th>3</th>\n",
              "      <td>Advanced Economies</td>\n",
              "      <td>Annual Net Emissions/Removals</td>\n",
              "      <td>Annual Net Emissions/Removals</td>\n",
              "      <td>Agriculture</td>\n",
              "      <td>Nitrous oxide</td>\n",
              "    </tr>\n",
              "    <tr>\n",
              "      <th>4</th>\n",
              "      <td>Advanced Economies</td>\n",
              "      <td>Annual Net Emissions/Removals</td>\n",
              "      <td>Annual Net Emissions/Removals</td>\n",
              "      <td>Buildings and other Sectors</td>\n",
              "      <td>Carbon dioxide</td>\n",
              "    </tr>\n",
              "    <tr>\n",
              "      <th>...</th>\n",
              "      <td>...</td>\n",
              "      <td>...</td>\n",
              "      <td>...</td>\n",
              "      <td>...</td>\n",
              "      <td>...</td>\n",
              "    </tr>\n",
              "    <tr>\n",
              "      <th>20442</th>\n",
              "      <td>Zimbabwe</td>\n",
              "      <td>Total GHG emissions excluding land-use, land-u...</td>\n",
              "      <td>Total GHG Emissions Excluding Land-Use and Lan...</td>\n",
              "      <td>Not Applicable</td>\n",
              "      <td>Nitrous oxide</td>\n",
              "    </tr>\n",
              "    <tr>\n",
              "      <th>20443</th>\n",
              "      <td>Zimbabwe</td>\n",
              "      <td>Total GHG emissions including land-use, land-u...</td>\n",
              "      <td>Total GHG Emissions Including Land-Use and Lan...</td>\n",
              "      <td>Not Applicable</td>\n",
              "      <td>Carbon dioxide</td>\n",
              "    </tr>\n",
              "    <tr>\n",
              "      <th>20445</th>\n",
              "      <td>Zimbabwe</td>\n",
              "      <td>Total GHG emissions including land-use, land-u...</td>\n",
              "      <td>Total GHG Emissions Including Land-Use and Lan...</td>\n",
              "      <td>Not Applicable</td>\n",
              "      <td>Greenhouse gas</td>\n",
              "    </tr>\n",
              "    <tr>\n",
              "      <th>20446</th>\n",
              "      <td>Zimbabwe</td>\n",
              "      <td>Total GHG emissions including land-use, land-u...</td>\n",
              "      <td>Total GHG Emissions Including Land-Use and Lan...</td>\n",
              "      <td>Not Applicable</td>\n",
              "      <td>Methane</td>\n",
              "    </tr>\n",
              "    <tr>\n",
              "      <th>20447</th>\n",
              "      <td>Zimbabwe</td>\n",
              "      <td>Total GHG emissions including land-use, land-u...</td>\n",
              "      <td>Total GHG Emissions Including Land-Use and Lan...</td>\n",
              "      <td>Not Applicable</td>\n",
              "      <td>Nitrous oxide</td>\n",
              "    </tr>\n",
              "  </tbody>\n",
              "</table>\n",
              "<p>14814 rows × 5 columns</p>\n",
              "</div>\n",
              "      <button class=\"colab-df-convert\" onclick=\"convertToInteractive('df-3713a3d4-888b-4cc8-a198-e9ac820a9ca3')\"\n",
              "              title=\"Convert this dataframe to an interactive table.\"\n",
              "              style=\"display:none;\">\n",
              "        \n",
              "  <svg xmlns=\"http://www.w3.org/2000/svg\" height=\"24px\"viewBox=\"0 0 24 24\"\n",
              "       width=\"24px\">\n",
              "    <path d=\"M0 0h24v24H0V0z\" fill=\"none\"/>\n",
              "    <path d=\"M18.56 5.44l.94 2.06.94-2.06 2.06-.94-2.06-.94-.94-2.06-.94 2.06-2.06.94zm-11 1L8.5 8.5l.94-2.06 2.06-.94-2.06-.94L8.5 2.5l-.94 2.06-2.06.94zm10 10l.94 2.06.94-2.06 2.06-.94-2.06-.94-.94-2.06-.94 2.06-2.06.94z\"/><path d=\"M17.41 7.96l-1.37-1.37c-.4-.4-.92-.59-1.43-.59-.52 0-1.04.2-1.43.59L10.3 9.45l-7.72 7.72c-.78.78-.78 2.05 0 2.83L4 21.41c.39.39.9.59 1.41.59.51 0 1.02-.2 1.41-.59l7.78-7.78 2.81-2.81c.8-.78.8-2.07 0-2.86zM5.41 20L4 18.59l7.72-7.72 1.47 1.35L5.41 20z\"/>\n",
              "  </svg>\n",
              "      </button>\n",
              "      \n",
              "  <style>\n",
              "    .colab-df-container {\n",
              "      display:flex;\n",
              "      flex-wrap:wrap;\n",
              "      gap: 12px;\n",
              "    }\n",
              "\n",
              "    .colab-df-convert {\n",
              "      background-color: #E8F0FE;\n",
              "      border: none;\n",
              "      border-radius: 50%;\n",
              "      cursor: pointer;\n",
              "      display: none;\n",
              "      fill: #1967D2;\n",
              "      height: 32px;\n",
              "      padding: 0 0 0 0;\n",
              "      width: 32px;\n",
              "    }\n",
              "\n",
              "    .colab-df-convert:hover {\n",
              "      background-color: #E2EBFA;\n",
              "      box-shadow: 0px 1px 2px rgba(60, 64, 67, 0.3), 0px 1px 3px 1px rgba(60, 64, 67, 0.15);\n",
              "      fill: #174EA6;\n",
              "    }\n",
              "\n",
              "    [theme=dark] .colab-df-convert {\n",
              "      background-color: #3B4455;\n",
              "      fill: #D2E3FC;\n",
              "    }\n",
              "\n",
              "    [theme=dark] .colab-df-convert:hover {\n",
              "      background-color: #434B5C;\n",
              "      box-shadow: 0px 1px 3px 1px rgba(0, 0, 0, 0.15);\n",
              "      filter: drop-shadow(0px 1px 2px rgba(0, 0, 0, 0.3));\n",
              "      fill: #FFFFFF;\n",
              "    }\n",
              "  </style>\n",
              "\n",
              "      <script>\n",
              "        const buttonEl =\n",
              "          document.querySelector('#df-3713a3d4-888b-4cc8-a198-e9ac820a9ca3 button.colab-df-convert');\n",
              "        buttonEl.style.display =\n",
              "          google.colab.kernel.accessAllowed ? 'block' : 'none';\n",
              "\n",
              "        async function convertToInteractive(key) {\n",
              "          const element = document.querySelector('#df-3713a3d4-888b-4cc8-a198-e9ac820a9ca3');\n",
              "          const dataTable =\n",
              "            await google.colab.kernel.invokeFunction('convertToInteractive',\n",
              "                                                     [key], {});\n",
              "          if (!dataTable) return;\n",
              "\n",
              "          const docLinkHtml = 'Like what you see? Visit the ' +\n",
              "            '<a target=\"_blank\" href=https://colab.research.google.com/notebooks/data_table.ipynb>data table notebook</a>'\n",
              "            + ' to learn more about interactive tables.';\n",
              "          element.innerHTML = '';\n",
              "          dataTable['output_type'] = 'display_data';\n",
              "          await google.colab.output.renderOutput(dataTable, element);\n",
              "          const docLink = document.createElement('div');\n",
              "          docLink.innerHTML = docLinkHtml;\n",
              "          element.appendChild(docLink);\n",
              "        }\n",
              "      </script>\n",
              "    </div>\n",
              "  </div>\n",
              "  "
            ]
          },
          "metadata": {},
          "execution_count": 15
        }
      ]
    },
    {
      "cell_type": "code",
      "source": [
        "y = df_cleaned['F2019']\n",
        "from sklearn.preprocessing import StandardScaler\n",
        "# Convert y to a NumPy array and reshape it\n",
        "#y_array = Y.to_numpy().reshape(-1, 1)\n",
        "\n",
        "# Apply standardization\n",
        "#scaler = StandardScaler()\n",
        "#y = scaler.fit_transform(y_array).flatten()\n",
        "\n",
        "# Print the transformed target variable\n",
        "print(y)\n",
        "\n"
      ],
      "metadata": {
        "id": "tgBo8sQANOQp",
        "colab": {
          "base_uri": "https://localhost:8080/"
        },
        "outputId": "f8e114ed-0681-49ed-943b-9f8166b7e749"
      },
      "execution_count": null,
      "outputs": [
        {
          "output_type": "stream",
          "name": "stdout",
          "text": [
            "0          24.984129\n",
            "1        1178.929662\n",
            "2         592.825548\n",
            "3         561.119985\n",
            "4        1414.019033\n",
            "            ...     \n",
            "20442       4.971025\n",
            "20443      99.250957\n",
            "20445     117.737745\n",
            "20446      12.931867\n",
            "20447       5.050305\n",
            "Name: F2019, Length: 14814, dtype: float64\n"
          ]
        }
      ]
    },
    {
      "cell_type": "code",
      "source": [
        "from sklearn.preprocessing import LabelEncoder\n",
        "le = LabelEncoder()\n",
        "for column_name in X.columns:\n",
        "  if X[column_name].dtype == object:\n",
        "    X[column_name] = le.fit_transform(X[column_name])\n",
        "  else:\n",
        "    pass\n",
        "\n",
        "#y = le.fit_transform(y)\n"
      ],
      "metadata": {
        "id": "-4Uf0b0yNqpT"
      },
      "execution_count": null,
      "outputs": []
    },
    {
      "cell_type": "code",
      "source": [
        "#X = preprocessor.fit_transform(X)"
      ],
      "metadata": {
        "id": "pYGc4WlyN21T"
      },
      "execution_count": null,
      "outputs": []
    },
    {
      "cell_type": "code",
      "source": [
        "X.shape"
      ],
      "metadata": {
        "colab": {
          "base_uri": "https://localhost:8080/"
        },
        "id": "ba7S_8AdN_aU",
        "outputId": "f585daa8-d456-4d27-d6cb-b7a17ba733b9"
      },
      "execution_count": null,
      "outputs": [
        {
          "output_type": "execute_result",
          "data": {
            "text/plain": [
              "(14814, 5)"
            ]
          },
          "metadata": {},
          "execution_count": 19
        }
      ]
    },
    {
      "cell_type": "markdown",
      "source": [
        "5. Model Building"
      ],
      "metadata": {
        "id": "amohT-90OEds"
      }
    },
    {
      "cell_type": "code",
      "source": [
        "# separate dataset into train and test\n",
        "from sklearn.model_selection import train_test_split\n",
        "X_train, X_test, y_train, y_test = train_test_split(X,y,test_size=0.2,random_state=42)\n",
        "X_train.shape, X_test.shape\n"
      ],
      "metadata": {
        "colab": {
          "base_uri": "https://localhost:8080/"
        },
        "id": "FNT1vWuIODuj",
        "outputId": "c108db44-d56b-4d30-b57f-5c6adbe0960e"
      },
      "execution_count": null,
      "outputs": [
        {
          "output_type": "execute_result",
          "data": {
            "text/plain": [
              "((11851, 5), (2963, 5))"
            ]
          },
          "metadata": {},
          "execution_count": 20
        }
      ]
    },
    {
      "cell_type": "code",
      "source": [],
      "metadata": {
        "id": "jmpb4Kq-ONXR"
      },
      "execution_count": null,
      "outputs": []
    },
    {
      "cell_type": "markdown",
      "source": [
        "Create an Evaluate Function to give all metrics after model Training"
      ],
      "metadata": {
        "id": "-DeMxvPlOQGo"
      }
    },
    {
      "cell_type": "code",
      "source": [
        "def evaluate_model(true, predicted):\n",
        "    mae = mean_absolute_error(true, predicted)\n",
        "    mse = mean_squared_error(true, predicted)\n",
        "    rmse = np.sqrt(mean_squared_error(true, predicted))\n",
        "    r2_square = r2_score(true, predicted)\n",
        "    return mae, rmse, r2_square"
      ],
      "metadata": {
        "id": "imqs31ExOQ3V"
      },
      "execution_count": null,
      "outputs": []
    },
    {
      "cell_type": "code",
      "source": [
        "models = {\n",
        "    \"Linear Regression\": LinearRegression(),\n",
        "    \"Lasso\": Lasso(),\n",
        "    \"Ridge\": Ridge(),\n",
        "    \"K-Neighbors Regressor\": KNeighborsRegressor(),\n",
        "    \"Decision Tree\": DecisionTreeRegressor(),\n",
        "    \"Random Forest Regressor\": RandomForestRegressor(),\n",
        "    \"XGBRegressor\": XGBRegressor(), \n",
        "    \"CatBoosting Regressor\": CatBoostRegressor(verbose=False),\n",
        "    \"AdaBoost Regressor\": AdaBoostRegressor(),\n",
        "    \"Bagging Regressor\":BaggingRegressor(),\n",
        "    \"Gradient Boosting Regressor\":GradientBoostingRegressor(),\n",
        "    \"SVM Regressor\":SVR(kernel = 'rbf'),\n",
        "    \"SGD Regressor\": SGDRegressor()\n",
        "}\n",
        "model_list = []\n",
        "r2_list =[]\n",
        "\n",
        "for i in range(len(list(models))):\n",
        "    model = list(models.values())[i]\n",
        "    model.fit(X_train, y_train) # Train model\n",
        "\n",
        "    # Make predictions\n",
        "    y_train_pred = model.predict(X_train)\n",
        "    y_test_pred = model.predict(X_test)\n",
        "     # Evaluate Train and Test dataset\n",
        "    model_train_mae , model_train_rmse, model_train_r2 = evaluate_model(y_train, y_train_pred)\n",
        "\n",
        "    model_test_mae , model_test_rmse, model_test_r2 = evaluate_model(y_test, y_test_pred)\n",
        "\n",
        "    \n",
        "    print(list(models.keys())[i])\n",
        "    model_list.append(list(models.keys())[i])\n",
        "    \n",
        "    print('Model performance for Training set')\n",
        "    print(\"- Root Mean Squared Error: {:.4f}\".format(model_train_rmse))\n",
        "    print(\"- Mean Absolute Error: {:.4f}\".format(model_train_mae))\n",
        "    print(\"- R2 Score: {:.4f}\".format(model_train_r2))\n",
        "\n",
        "    print('----------------------------------')\n",
        "    \n",
        "    print('Model performance for Test set')\n",
        "    print(\"- Root Mean Squared Error: {:.4f}\".format(model_test_rmse))\n",
        "    print(\"- Mean Absolute Error: {:.4f}\".format(model_test_mae))\n",
        "    print(\"- R2 Score: {:.3f}\".format(model_test_r2))\n",
        "    r2_list.append(model_test_r2)\n",
        "    \n",
        "    print('='*35)\n",
        "    print('\\n')"
      ],
      "metadata": {
        "colab": {
          "base_uri": "https://localhost:8080/"
        },
        "id": "JZuygG1KOSzO",
        "outputId": "7081bfd7-979f-4bf9-d9b0-2b329fe8595c"
      },
      "execution_count": null,
      "outputs": [
        {
          "output_type": "stream",
          "name": "stdout",
          "text": [
            "Linear Regression\n",
            "Model performance for Training set\n",
            "- Root Mean Squared Error: 1540.8224\n",
            "- Mean Absolute Error: 279.3634\n",
            "- R2 Score: 0.0162\n",
            "----------------------------------\n",
            "Model performance for Test set\n",
            "- Root Mean Squared Error: 1270.9784\n",
            "- Mean Absolute Error: 259.8642\n",
            "- R2 Score: 0.006\n",
            "===================================\n",
            "\n",
            "\n",
            "Lasso\n",
            "Model performance for Training set\n",
            "- Root Mean Squared Error: 1540.8237\n",
            "- Mean Absolute Error: 278.8834\n",
            "- R2 Score: 0.0162\n",
            "----------------------------------\n",
            "Model performance for Test set\n",
            "- Root Mean Squared Error: 1270.8611\n",
            "- Mean Absolute Error: 259.4024\n",
            "- R2 Score: 0.006\n",
            "===================================\n",
            "\n",
            "\n",
            "Ridge\n",
            "Model performance for Training set\n",
            "- Root Mean Squared Error: 1540.8224\n",
            "- Mean Absolute Error: 279.3592\n",
            "- R2 Score: 0.0162\n",
            "----------------------------------\n",
            "Model performance for Test set\n",
            "- Root Mean Squared Error: 1270.9768\n",
            "- Mean Absolute Error: 259.8600\n",
            "- R2 Score: 0.006\n",
            "===================================\n",
            "\n",
            "\n",
            "K-Neighbors Regressor\n",
            "Model performance for Training set\n",
            "- Root Mean Squared Error: 1178.0927\n",
            "- Mean Absolute Error: 178.5194\n",
            "- R2 Score: 0.4249\n",
            "----------------------------------\n",
            "Model performance for Test set\n",
            "- Root Mean Squared Error: 1260.1916\n",
            "- Mean Absolute Error: 201.1582\n",
            "- R2 Score: 0.022\n",
            "===================================\n",
            "\n",
            "\n",
            "Decision Tree\n",
            "Model performance for Training set\n",
            "- Root Mean Squared Error: 0.0000\n",
            "- Mean Absolute Error: 0.0000\n",
            "- R2 Score: 1.0000\n",
            "----------------------------------\n",
            "Model performance for Test set\n",
            "- Root Mean Squared Error: 343.7574\n",
            "- Mean Absolute Error: 53.7035\n",
            "- R2 Score: 0.927\n",
            "===================================\n",
            "\n",
            "\n",
            "Random Forest Regressor\n",
            "Model performance for Training set\n",
            "- Root Mean Squared Error: 412.7431\n",
            "- Mean Absolute Error: 50.3709\n",
            "- R2 Score: 0.9294\n",
            "----------------------------------\n",
            "Model performance for Test set\n",
            "- Root Mean Squared Error: 809.0609\n",
            "- Mean Absolute Error: 111.5073\n",
            "- R2 Score: 0.597\n",
            "===================================\n",
            "\n",
            "\n",
            "XGBRegressor\n",
            "Model performance for Training set\n",
            "- Root Mean Squared Error: 235.8440\n",
            "- Mean Absolute Error: 74.2103\n",
            "- R2 Score: 0.9770\n",
            "----------------------------------\n",
            "Model performance for Test set\n",
            "- Root Mean Squared Error: 672.3852\n",
            "- Mean Absolute Error: 130.4646\n",
            "- R2 Score: 0.722\n",
            "===================================\n",
            "\n",
            "\n",
            "CatBoosting Regressor\n",
            "Model performance for Training set\n",
            "- Root Mean Squared Error: 511.7521\n",
            "- Mean Absolute Error: 135.2390\n",
            "- R2 Score: 0.8915\n",
            "----------------------------------\n",
            "Model performance for Test set\n",
            "- Root Mean Squared Error: 884.0040\n",
            "- Mean Absolute Error: 175.5104\n",
            "- R2 Score: 0.519\n",
            "===================================\n",
            "\n",
            "\n",
            "AdaBoost Regressor\n",
            "Model performance for Training set\n",
            "- Root Mean Squared Error: 1603.6935\n",
            "- Mean Absolute Error: 481.5817\n",
            "- R2 Score: -0.0658\n",
            "----------------------------------\n",
            "Model performance for Test set\n",
            "- Root Mean Squared Error: 1578.6943\n",
            "- Mean Absolute Error: 475.5581\n",
            "- R2 Score: -0.534\n",
            "===================================\n",
            "\n",
            "\n",
            "Bagging Regressor\n",
            "Model performance for Training set\n",
            "- Root Mean Squared Error: 469.8165\n",
            "- Mean Absolute Error: 51.5977\n",
            "- R2 Score: 0.9085\n",
            "----------------------------------\n",
            "Model performance for Test set\n",
            "- Root Mean Squared Error: 919.7339\n",
            "- Mean Absolute Error: 117.7428\n",
            "- R2 Score: 0.479\n",
            "===================================\n",
            "\n",
            "\n",
            "Gradient Boosting Regressor\n",
            "Model performance for Training set\n",
            "- Root Mean Squared Error: 1186.7127\n",
            "- Mean Absolute Error: 235.9575\n",
            "- R2 Score: 0.4164\n",
            "----------------------------------\n",
            "Model performance for Test set\n",
            "- Root Mean Squared Error: 1194.5938\n",
            "- Mean Absolute Error: 236.8281\n",
            "- R2 Score: 0.121\n",
            "===================================\n",
            "\n",
            "\n",
            "SVM Regressor\n",
            "Model performance for Training set\n",
            "- Root Mean Squared Error: 1561.5288\n",
            "- Mean Absolute Error: 159.7692\n",
            "- R2 Score: -0.0105\n",
            "----------------------------------\n",
            "Model performance for Test set\n",
            "- Root Mean Squared Error: 1281.6277\n",
            "- Mean Absolute Error: 135.4955\n",
            "- R2 Score: -0.011\n",
            "===================================\n",
            "\n",
            "\n",
            "SGD Regressor\n",
            "Model performance for Training set\n",
            "- Root Mean Squared Error: 4347652931519.8740\n",
            "- Mean Absolute Error: 3725708389772.7251\n",
            "- R2 Score: -7833031358691598336.0000\n",
            "----------------------------------\n",
            "Model performance for Test set\n",
            "- Root Mean Squared Error: 4301301528672.0371\n",
            "- Mean Absolute Error: 3675583254307.1772\n",
            "- R2 Score: -11389457736476981248.000\n",
            "===================================\n",
            "\n",
            "\n"
          ]
        }
      ]
    },
    {
      "cell_type": "code",
      "source": [],
      "metadata": {
        "id": "oBcYig2lOcWm"
      },
      "execution_count": null,
      "outputs": []
    },
    {
      "cell_type": "markdown",
      "source": [
        "Results"
      ],
      "metadata": {
        "id": "2cuC12k1OjSO"
      }
    },
    {
      "cell_type": "code",
      "source": [
        "pd.DataFrame(list(zip(model_list, r2_list)), columns=['Model Name', 'R2_Score']).sort_values(by=[\"R2_Score\"],ascending=False)"
      ],
      "metadata": {
        "colab": {
          "base_uri": "https://localhost:8080/",
          "height": 457
        },
        "id": "QHYVDdSLOj8U",
        "outputId": "3b100058-8147-4d0d-9fe7-1dd979b74fb3"
      },
      "execution_count": null,
      "outputs": [
        {
          "output_type": "execute_result",
          "data": {
            "text/plain": [
              "                     Model Name      R2_Score\n",
              "4                 Decision Tree  9.272543e-01\n",
              "6                  XGBRegressor  7.216831e-01\n",
              "5       Random Forest Regressor  5.970365e-01\n",
              "7         CatBoosting Regressor  5.189262e-01\n",
              "9             Bagging Regressor  4.792520e-01\n",
              "10  Gradient Boosting Regressor  1.214959e-01\n",
              "3         K-Neighbors Regressor  2.236575e-02\n",
              "1                         Lasso  5.741260e-03\n",
              "2                         Ridge  5.560105e-03\n",
              "0             Linear Regression  5.557697e-03\n",
              "11                SVM Regressor -1.117664e-02\n",
              "8            AdaBoost Regressor -5.342614e-01\n",
              "12                SGD Regressor -1.138946e+19"
            ],
            "text/html": [
              "\n",
              "  <div id=\"df-77e6ac56-8aea-4566-a1dc-8fd3ba7f5cef\">\n",
              "    <div class=\"colab-df-container\">\n",
              "      <div>\n",
              "<style scoped>\n",
              "    .dataframe tbody tr th:only-of-type {\n",
              "        vertical-align: middle;\n",
              "    }\n",
              "\n",
              "    .dataframe tbody tr th {\n",
              "        vertical-align: top;\n",
              "    }\n",
              "\n",
              "    .dataframe thead th {\n",
              "        text-align: right;\n",
              "    }\n",
              "</style>\n",
              "<table border=\"1\" class=\"dataframe\">\n",
              "  <thead>\n",
              "    <tr style=\"text-align: right;\">\n",
              "      <th></th>\n",
              "      <th>Model Name</th>\n",
              "      <th>R2_Score</th>\n",
              "    </tr>\n",
              "  </thead>\n",
              "  <tbody>\n",
              "    <tr>\n",
              "      <th>4</th>\n",
              "      <td>Decision Tree</td>\n",
              "      <td>9.272543e-01</td>\n",
              "    </tr>\n",
              "    <tr>\n",
              "      <th>6</th>\n",
              "      <td>XGBRegressor</td>\n",
              "      <td>7.216831e-01</td>\n",
              "    </tr>\n",
              "    <tr>\n",
              "      <th>5</th>\n",
              "      <td>Random Forest Regressor</td>\n",
              "      <td>5.970365e-01</td>\n",
              "    </tr>\n",
              "    <tr>\n",
              "      <th>7</th>\n",
              "      <td>CatBoosting Regressor</td>\n",
              "      <td>5.189262e-01</td>\n",
              "    </tr>\n",
              "    <tr>\n",
              "      <th>9</th>\n",
              "      <td>Bagging Regressor</td>\n",
              "      <td>4.792520e-01</td>\n",
              "    </tr>\n",
              "    <tr>\n",
              "      <th>10</th>\n",
              "      <td>Gradient Boosting Regressor</td>\n",
              "      <td>1.214959e-01</td>\n",
              "    </tr>\n",
              "    <tr>\n",
              "      <th>3</th>\n",
              "      <td>K-Neighbors Regressor</td>\n",
              "      <td>2.236575e-02</td>\n",
              "    </tr>\n",
              "    <tr>\n",
              "      <th>1</th>\n",
              "      <td>Lasso</td>\n",
              "      <td>5.741260e-03</td>\n",
              "    </tr>\n",
              "    <tr>\n",
              "      <th>2</th>\n",
              "      <td>Ridge</td>\n",
              "      <td>5.560105e-03</td>\n",
              "    </tr>\n",
              "    <tr>\n",
              "      <th>0</th>\n",
              "      <td>Linear Regression</td>\n",
              "      <td>5.557697e-03</td>\n",
              "    </tr>\n",
              "    <tr>\n",
              "      <th>11</th>\n",
              "      <td>SVM Regressor</td>\n",
              "      <td>-1.117664e-02</td>\n",
              "    </tr>\n",
              "    <tr>\n",
              "      <th>8</th>\n",
              "      <td>AdaBoost Regressor</td>\n",
              "      <td>-5.342614e-01</td>\n",
              "    </tr>\n",
              "    <tr>\n",
              "      <th>12</th>\n",
              "      <td>SGD Regressor</td>\n",
              "      <td>-1.138946e+19</td>\n",
              "    </tr>\n",
              "  </tbody>\n",
              "</table>\n",
              "</div>\n",
              "      <button class=\"colab-df-convert\" onclick=\"convertToInteractive('df-77e6ac56-8aea-4566-a1dc-8fd3ba7f5cef')\"\n",
              "              title=\"Convert this dataframe to an interactive table.\"\n",
              "              style=\"display:none;\">\n",
              "        \n",
              "  <svg xmlns=\"http://www.w3.org/2000/svg\" height=\"24px\"viewBox=\"0 0 24 24\"\n",
              "       width=\"24px\">\n",
              "    <path d=\"M0 0h24v24H0V0z\" fill=\"none\"/>\n",
              "    <path d=\"M18.56 5.44l.94 2.06.94-2.06 2.06-.94-2.06-.94-.94-2.06-.94 2.06-2.06.94zm-11 1L8.5 8.5l.94-2.06 2.06-.94-2.06-.94L8.5 2.5l-.94 2.06-2.06.94zm10 10l.94 2.06.94-2.06 2.06-.94-2.06-.94-.94-2.06-.94 2.06-2.06.94z\"/><path d=\"M17.41 7.96l-1.37-1.37c-.4-.4-.92-.59-1.43-.59-.52 0-1.04.2-1.43.59L10.3 9.45l-7.72 7.72c-.78.78-.78 2.05 0 2.83L4 21.41c.39.39.9.59 1.41.59.51 0 1.02-.2 1.41-.59l7.78-7.78 2.81-2.81c.8-.78.8-2.07 0-2.86zM5.41 20L4 18.59l7.72-7.72 1.47 1.35L5.41 20z\"/>\n",
              "  </svg>\n",
              "      </button>\n",
              "      \n",
              "  <style>\n",
              "    .colab-df-container {\n",
              "      display:flex;\n",
              "      flex-wrap:wrap;\n",
              "      gap: 12px;\n",
              "    }\n",
              "\n",
              "    .colab-df-convert {\n",
              "      background-color: #E8F0FE;\n",
              "      border: none;\n",
              "      border-radius: 50%;\n",
              "      cursor: pointer;\n",
              "      display: none;\n",
              "      fill: #1967D2;\n",
              "      height: 32px;\n",
              "      padding: 0 0 0 0;\n",
              "      width: 32px;\n",
              "    }\n",
              "\n",
              "    .colab-df-convert:hover {\n",
              "      background-color: #E2EBFA;\n",
              "      box-shadow: 0px 1px 2px rgba(60, 64, 67, 0.3), 0px 1px 3px 1px rgba(60, 64, 67, 0.15);\n",
              "      fill: #174EA6;\n",
              "    }\n",
              "\n",
              "    [theme=dark] .colab-df-convert {\n",
              "      background-color: #3B4455;\n",
              "      fill: #D2E3FC;\n",
              "    }\n",
              "\n",
              "    [theme=dark] .colab-df-convert:hover {\n",
              "      background-color: #434B5C;\n",
              "      box-shadow: 0px 1px 3px 1px rgba(0, 0, 0, 0.15);\n",
              "      filter: drop-shadow(0px 1px 2px rgba(0, 0, 0, 0.3));\n",
              "      fill: #FFFFFF;\n",
              "    }\n",
              "  </style>\n",
              "\n",
              "      <script>\n",
              "        const buttonEl =\n",
              "          document.querySelector('#df-77e6ac56-8aea-4566-a1dc-8fd3ba7f5cef button.colab-df-convert');\n",
              "        buttonEl.style.display =\n",
              "          google.colab.kernel.accessAllowed ? 'block' : 'none';\n",
              "\n",
              "        async function convertToInteractive(key) {\n",
              "          const element = document.querySelector('#df-77e6ac56-8aea-4566-a1dc-8fd3ba7f5cef');\n",
              "          const dataTable =\n",
              "            await google.colab.kernel.invokeFunction('convertToInteractive',\n",
              "                                                     [key], {});\n",
              "          if (!dataTable) return;\n",
              "\n",
              "          const docLinkHtml = 'Like what you see? Visit the ' +\n",
              "            '<a target=\"_blank\" href=https://colab.research.google.com/notebooks/data_table.ipynb>data table notebook</a>'\n",
              "            + ' to learn more about interactive tables.';\n",
              "          element.innerHTML = '';\n",
              "          dataTable['output_type'] = 'display_data';\n",
              "          await google.colab.output.renderOutput(dataTable, element);\n",
              "          const docLink = document.createElement('div');\n",
              "          docLink.innerHTML = docLinkHtml;\n",
              "          element.appendChild(docLink);\n",
              "        }\n",
              "      </script>\n",
              "    </div>\n",
              "  </div>\n",
              "  "
            ]
          },
          "metadata": {},
          "execution_count": 49
        }
      ]
    },
    {
      "cell_type": "code",
      "source": [
        "regressor=DecisionTreeRegressor()\n",
        "regressor.fit(X_train,y_train)"
      ],
      "metadata": {
        "id": "PaFclQ4XO4gO",
        "colab": {
          "base_uri": "https://localhost:8080/",
          "height": 74
        },
        "outputId": "a3fbf2b4-d73c-4125-e4e7-e498c862c317"
      },
      "execution_count": null,
      "outputs": [
        {
          "output_type": "execute_result",
          "data": {
            "text/plain": [
              "DecisionTreeRegressor()"
            ],
            "text/html": [
              "<style>#sk-container-id-3 {color: black;background-color: white;}#sk-container-id-3 pre{padding: 0;}#sk-container-id-3 div.sk-toggleable {background-color: white;}#sk-container-id-3 label.sk-toggleable__label {cursor: pointer;display: block;width: 100%;margin-bottom: 0;padding: 0.3em;box-sizing: border-box;text-align: center;}#sk-container-id-3 label.sk-toggleable__label-arrow:before {content: \"▸\";float: left;margin-right: 0.25em;color: #696969;}#sk-container-id-3 label.sk-toggleable__label-arrow:hover:before {color: black;}#sk-container-id-3 div.sk-estimator:hover label.sk-toggleable__label-arrow:before {color: black;}#sk-container-id-3 div.sk-toggleable__content {max-height: 0;max-width: 0;overflow: hidden;text-align: left;background-color: #f0f8ff;}#sk-container-id-3 div.sk-toggleable__content pre {margin: 0.2em;color: black;border-radius: 0.25em;background-color: #f0f8ff;}#sk-container-id-3 input.sk-toggleable__control:checked~div.sk-toggleable__content {max-height: 200px;max-width: 100%;overflow: auto;}#sk-container-id-3 input.sk-toggleable__control:checked~label.sk-toggleable__label-arrow:before {content: \"▾\";}#sk-container-id-3 div.sk-estimator input.sk-toggleable__control:checked~label.sk-toggleable__label {background-color: #d4ebff;}#sk-container-id-3 div.sk-label input.sk-toggleable__control:checked~label.sk-toggleable__label {background-color: #d4ebff;}#sk-container-id-3 input.sk-hidden--visually {border: 0;clip: rect(1px 1px 1px 1px);clip: rect(1px, 1px, 1px, 1px);height: 1px;margin: -1px;overflow: hidden;padding: 0;position: absolute;width: 1px;}#sk-container-id-3 div.sk-estimator {font-family: monospace;background-color: #f0f8ff;border: 1px dotted black;border-radius: 0.25em;box-sizing: border-box;margin-bottom: 0.5em;}#sk-container-id-3 div.sk-estimator:hover {background-color: #d4ebff;}#sk-container-id-3 div.sk-parallel-item::after {content: \"\";width: 100%;border-bottom: 1px solid gray;flex-grow: 1;}#sk-container-id-3 div.sk-label:hover label.sk-toggleable__label {background-color: #d4ebff;}#sk-container-id-3 div.sk-serial::before {content: \"\";position: absolute;border-left: 1px solid gray;box-sizing: border-box;top: 0;bottom: 0;left: 50%;z-index: 0;}#sk-container-id-3 div.sk-serial {display: flex;flex-direction: column;align-items: center;background-color: white;padding-right: 0.2em;padding-left: 0.2em;position: relative;}#sk-container-id-3 div.sk-item {position: relative;z-index: 1;}#sk-container-id-3 div.sk-parallel {display: flex;align-items: stretch;justify-content: center;background-color: white;position: relative;}#sk-container-id-3 div.sk-item::before, #sk-container-id-3 div.sk-parallel-item::before {content: \"\";position: absolute;border-left: 1px solid gray;box-sizing: border-box;top: 0;bottom: 0;left: 50%;z-index: -1;}#sk-container-id-3 div.sk-parallel-item {display: flex;flex-direction: column;z-index: 1;position: relative;background-color: white;}#sk-container-id-3 div.sk-parallel-item:first-child::after {align-self: flex-end;width: 50%;}#sk-container-id-3 div.sk-parallel-item:last-child::after {align-self: flex-start;width: 50%;}#sk-container-id-3 div.sk-parallel-item:only-child::after {width: 0;}#sk-container-id-3 div.sk-dashed-wrapped {border: 1px dashed gray;margin: 0 0.4em 0.5em 0.4em;box-sizing: border-box;padding-bottom: 0.4em;background-color: white;}#sk-container-id-3 div.sk-label label {font-family: monospace;font-weight: bold;display: inline-block;line-height: 1.2em;}#sk-container-id-3 div.sk-label-container {text-align: center;}#sk-container-id-3 div.sk-container {/* jupyter's `normalize.less` sets `[hidden] { display: none; }` but bootstrap.min.css set `[hidden] { display: none !important; }` so we also need the `!important` here to be able to override the default hidden behavior on the sphinx rendered scikit-learn.org. See: https://github.com/scikit-learn/scikit-learn/issues/21755 */display: inline-block !important;position: relative;}#sk-container-id-3 div.sk-text-repr-fallback {display: none;}</style><div id=\"sk-container-id-3\" class=\"sk-top-container\"><div class=\"sk-text-repr-fallback\"><pre>DecisionTreeRegressor()</pre><b>In a Jupyter environment, please rerun this cell to show the HTML representation or trust the notebook. <br />On GitHub, the HTML representation is unable to render, please try loading this page with nbviewer.org.</b></div><div class=\"sk-container\" hidden><div class=\"sk-item\"><div class=\"sk-estimator sk-toggleable\"><input class=\"sk-toggleable__control sk-hidden--visually\" id=\"sk-estimator-id-5\" type=\"checkbox\" checked><label for=\"sk-estimator-id-5\" class=\"sk-toggleable__label sk-toggleable__label-arrow\">DecisionTreeRegressor</label><div class=\"sk-toggleable__content\"><pre>DecisionTreeRegressor()</pre></div></div></div></div></div>"
            ]
          },
          "metadata": {},
          "execution_count": 51
        }
      ]
    },
    {
      "cell_type": "code",
      "source": [
        "y_pred=regressor.predict(X_test)"
      ],
      "metadata": {
        "id": "aJXeL1F90WgE"
      },
      "execution_count": null,
      "outputs": []
    },
    {
      "cell_type": "code",
      "source": [
        "#Evaluate the model using mean squared error\n",
        "mse = mean_squared_error(y_test, y_pred)\n",
        "print(\"Mean Squared Error:\", mse)\n",
        "score = r2_score(y_test, y_pred)*100\n",
        "print(\" Accuracy of the model is %.2f\" %score)"
      ],
      "metadata": {
        "colab": {
          "base_uri": "https://localhost:8080/"
        },
        "id": "M_gbYD1L0dPZ",
        "outputId": "bcaba854-c788-4906-f389-119e0d4dacbe"
      },
      "execution_count": null,
      "outputs": [
        {
          "output_type": "stream",
          "name": "stdout",
          "text": [
            "Mean Squared Error: 115549.49174684353\n",
            " Accuracy of the model is 92.89\n"
          ]
        }
      ]
    },
    {
      "cell_type": "code",
      "source": [
        "plt.scatter(y_test,y_pred);\n",
        "plt.xlabel('Actual');\n",
        "plt.ylabel('Predicted');"
      ],
      "metadata": {
        "colab": {
          "base_uri": "https://localhost:8080/",
          "height": 451
        },
        "id": "QfewdQIK0lb1",
        "outputId": "25cc8ad7-0621-4712-9dd6-24d40b6f868b"
      },
      "execution_count": null,
      "outputs": [
        {
          "output_type": "display_data",
          "data": {
            "text/plain": [
              "<Figure size 640x480 with 1 Axes>"
            ],
            "image/png": "[encoded data removed]"
          },
          "metadata": {}
        }
      ]
    },
    {
      "cell_type": "code",
      "source": [
        "sns.regplot(x=y_test,y=y_pred,ci=None,color ='red');"
      ],
      "metadata": {
        "colab": {
          "base_uri": "https://localhost:8080/",
          "height": 451
        },
        "id": "WnJPKTGr0rBn",
        "outputId": "5f323b90-896a-421c-9b6a-9490dc868b5b"
      },
      "execution_count": null,
      "outputs": [
        {
          "output_type": "display_data",
          "data": {
            "text/plain": [
              "<Figure size 640x480 with 1 Axes>"
            ],
            "image/png": "[encoded data removed]"
          },
          "metadata": {}
        }
      ]
    },
    {
      "cell_type": "code",
      "source": [
        "pred_df=pd.DataFrame({'Actual Value':y_test,'Predicted Value':y_pred,'Difference':y_test-y_pred})\n",
        "pred_df"
      ],
      "metadata": {
        "colab": {
          "base_uri": "https://localhost:8080/",
          "height": 423
        },
        "id": "TNsJ-T630yM8",
        "outputId": "c783e6fa-c481-4496-d74b-f63afd2d4034"
      },
      "execution_count": null,
      "outputs": [
        {
          "output_type": "execute_result",
          "data": {
            "text/plain": [
              "       Actual Value  Predicted Value  Difference\n",
              "15411  1.902248e-02         3.055975   -3.036952\n",
              "4175   3.073894e+01         0.445712   30.293224\n",
              "18382  1.866940e-04         1.035701   -1.035515\n",
              "2912   9.171358e-01         1.762681   -0.845545\n",
              "11257  7.062138e-01         0.706214    0.000000\n",
              "...             ...              ...         ...\n",
              "8608   1.043199e-01         0.104320    0.000000\n",
              "15589  6.990000e-07         0.002134   -0.002133\n",
              "19094  6.918751e+01        18.528028   50.659480\n",
              "8855   5.832375e+01         0.303012   58.020733\n",
              "9270   1.650000e-03         0.003669   -0.002019\n",
              "\n",
              "[2963 rows x 3 columns]"
            ],
            "text/html": [
              "\n",
              "  <div id=\"df-22ec8b18-c996-468f-a521-e5fc22373c99\">\n",
              "    <div class=\"colab-df-container\">\n",
              "      <div>\n",
              "<style scoped>\n",
              "    .dataframe tbody tr th:only-of-type {\n",
              "        vertical-align: middle;\n",
              "    }\n",
              "\n",
              "    .dataframe tbody tr th {\n",
              "        vertical-align: top;\n",
              "    }\n",
              "\n",
              "    .dataframe thead th {\n",
              "        text-align: right;\n",
              "    }\n",
              "</style>\n",
              "<table border=\"1\" class=\"dataframe\">\n",
              "  <thead>\n",
              "    <tr style=\"text-align: right;\">\n",
              "      <th></th>\n",
              "      <th>Actual Value</th>\n",
              "      <th>Predicted Value</th>\n",
              "      <th>Difference</th>\n",
              "    </tr>\n",
              "  </thead>\n",
              "  <tbody>\n",
              "    <tr>\n",
              "      <th>15411</th>\n",
              "      <td>1.902248e-02</td>\n",
              "      <td>3.055975</td>\n",
              "      <td>-3.036952</td>\n",
              "    </tr>\n",
              "    <tr>\n",
              "      <th>4175</th>\n",
              "      <td>3.073894e+01</td>\n",
              "      <td>0.445712</td>\n",
              "      <td>30.293224</td>\n",
              "    </tr>\n",
              "    <tr>\n",
              "      <th>18382</th>\n",
              "      <td>1.866940e-04</td>\n",
              "      <td>1.035701</td>\n",
              "      <td>-1.035515</td>\n",
              "    </tr>\n",
              "    <tr>\n",
              "      <th>2912</th>\n",
              "      <td>9.171358e-01</td>\n",
              "      <td>1.762681</td>\n",
              "      <td>-0.845545</td>\n",
              "    </tr>\n",
              "    <tr>\n",
              "      <th>11257</th>\n",
              "      <td>7.062138e-01</td>\n",
              "      <td>0.706214</td>\n",
              "      <td>0.000000</td>\n",
              "    </tr>\n",
              "    <tr>\n",
              "      <th>...</th>\n",
              "      <td>...</td>\n",
              "      <td>...</td>\n",
              "      <td>...</td>\n",
              "    </tr>\n",
              "    <tr>\n",
              "      <th>8608</th>\n",
              "      <td>1.043199e-01</td>\n",
              "      <td>0.104320</td>\n",
              "      <td>0.000000</td>\n",
              "    </tr>\n",
              "    <tr>\n",
              "      <th>15589</th>\n",
              "      <td>6.990000e-07</td>\n",
              "      <td>0.002134</td>\n",
              "      <td>-0.002133</td>\n",
              "    </tr>\n",
              "    <tr>\n",
              "      <th>19094</th>\n",
              "      <td>6.918751e+01</td>\n",
              "      <td>18.528028</td>\n",
              "      <td>50.659480</td>\n",
              "    </tr>\n",
              "    <tr>\n",
              "      <th>8855</th>\n",
              "      <td>5.832375e+01</td>\n",
              "      <td>0.303012</td>\n",
              "      <td>58.020733</td>\n",
              "    </tr>\n",
              "    <tr>\n",
              "      <th>9270</th>\n",
              "      <td>1.650000e-03</td>\n",
              "      <td>0.003669</td>\n",
              "      <td>-0.002019</td>\n",
              "    </tr>\n",
              "  </tbody>\n",
              "</table>\n",
              "<p>2963 rows × 3 columns</p>\n",
              "</div>\n",
              "      <button class=\"colab-df-convert\" onclick=\"convertToInteractive('df-22ec8b18-c996-468f-a521-e5fc22373c99')\"\n",
              "              title=\"Convert this dataframe to an interactive table.\"\n",
              "              style=\"display:none;\">\n",
              "        \n",
              "  <svg xmlns=\"http://www.w3.org/2000/svg\" height=\"24px\"viewBox=\"0 0 24 24\"\n",
              "       width=\"24px\">\n",
              "    <path d=\"M0 0h24v24H0V0z\" fill=\"none\"/>\n",
              "    <path d=\"M18.56 5.44l.94 2.06.94-2.06 2.06-.94-2.06-.94-.94-2.06-.94 2.06-2.06.94zm-11 1L8.5 8.5l.94-2.06 2.06-.94-2.06-.94L8.5 2.5l-.94 2.06-2.06.94zm10 10l.94 2.06.94-2.06 2.06-.94-2.06-.94-.94-2.06-.94 2.06-2.06.94z\"/><path d=\"M17.41 7.96l-1.37-1.37c-.4-.4-.92-.59-1.43-.59-.52 0-1.04.2-1.43.59L10.3 9.45l-7.72 7.72c-.78.78-.78 2.05 0 2.83L4 21.41c.39.39.9.59 1.41.59.51 0 1.02-.2 1.41-.59l7.78-7.78 2.81-2.81c.8-.78.8-2.07 0-2.86zM5.41 20L4 18.59l7.72-7.72 1.47 1.35L5.41 20z\"/>\n",
              "  </svg>\n",
              "      </button>\n",
              "      \n",
              "  <style>\n",
              "    .colab-df-container {\n",
              "      display:flex;\n",
              "      flex-wrap:wrap;\n",
              "      gap: 12px;\n",
              "    }\n",
              "\n",
              "    .colab-df-convert {\n",
              "      background-color: #E8F0FE;\n",
              "      border: none;\n",
              "      border-radius: 50%;\n",
              "      cursor: pointer;\n",
              "      display: none;\n",
              "      fill: #1967D2;\n",
              "      height: 32px;\n",
              "      padding: 0 0 0 0;\n",
              "      width: 32px;\n",
              "    }\n",
              "\n",
              "    .colab-df-convert:hover {\n",
              "      background-color: #E2EBFA;\n",
              "      box-shadow: 0px 1px 2px rgba(60, 64, 67, 0.3), 0px 1px 3px 1px rgba(60, 64, 67, 0.15);\n",
              "      fill: #174EA6;\n",
              "    }\n",
              "\n",
              "    [theme=dark] .colab-df-convert {\n",
              "      background-color: #3B4455;\n",
              "      fill: #D2E3FC;\n",
              "    }\n",
              "\n",
              "    [theme=dark] .colab-df-convert:hover {\n",
              "      background-color: #434B5C;\n",
              "      box-shadow: 0px 1px 3px 1px rgba(0, 0, 0, 0.15);\n",
              "      filter: drop-shadow(0px 1px 2px rgba(0, 0, 0, 0.3));\n",
              "      fill: #FFFFFF;\n",
              "    }\n",
              "  </style>\n",
              "\n",
              "      <script>\n",
              "        const buttonEl =\n",
              "          document.querySelector('#df-22ec8b18-c996-468f-a521-e5fc22373c99 button.colab-df-convert');\n",
              "        buttonEl.style.display =\n",
              "          google.colab.kernel.accessAllowed ? 'block' : 'none';\n",
              "\n",
              "        async function convertToInteractive(key) {\n",
              "          const element = document.querySelector('#df-22ec8b18-c996-468f-a521-e5fc22373c99');\n",
              "          const dataTable =\n",
              "            await google.colab.kernel.invokeFunction('convertToInteractive',\n",
              "                                                     [key], {});\n",
              "          if (!dataTable) return;\n",
              "\n",
              "          const docLinkHtml = 'Like what you see? Visit the ' +\n",
              "            '<a target=\"_blank\" href=https://colab.research.google.com/notebooks/data_table.ipynb>data table notebook</a>'\n",
              "            + ' to learn more about interactive tables.';\n",
              "          element.innerHTML = '';\n",
              "          dataTable['output_type'] = 'display_data';\n",
              "          await google.colab.output.renderOutput(dataTable, element);\n",
              "          const docLink = document.createElement('div');\n",
              "          docLink.innerHTML = docLinkHtml;\n",
              "          element.appendChild(docLink);\n",
              "        }\n",
              "      </script>\n",
              "    </div>\n",
              "  </div>\n",
              "  "
            ]
          },
          "metadata": {},
          "execution_count": 29
        }
      ]
    },
    {
      "cell_type": "markdown",
      "source": [
        "Hyper parameter tuning may be performed to find the best model parameters.\n"
      ],
      "metadata": {
        "id": "y09kir53O5U9"
      }
    }
  ]
}